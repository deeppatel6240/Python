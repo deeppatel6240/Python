{
  "nbformat": 4,
  "nbformat_minor": 0,
  "metadata": {
    "kernelspec": {
      "display_name": "Python 3",
      "language": "python",
      "name": "python3"
    },
    "language_info": {
      "codemirror_mode": {
        "name": "ipython",
        "version": 3
      },
      "file_extension": ".py",
      "mimetype": "text/x-python",
      "name": "python",
      "nbconvert_exporter": "python",
      "pygments_lexer": "ipython3",
      "version": "3.7.6"
    },
    "colab": {
      "name": "Untitled.ipynb",
      "provenance": [],
      "collapsed_sections": [],
      "include_colab_link": true
    }
  },
  "cells": [
    {
      "cell_type": "markdown",
      "metadata": {
        "id": "view-in-github",
        "colab_type": "text"
      },
      "source": [
        "<a href=\"https://colab.research.google.com/github/deeppatel6240/Python/blob/master/Python_Examples.ipynb\" target=\"_parent\"><img src=\"https://colab.research.google.com/assets/colab-badge.svg\" alt=\"Open In Colab\"/></a>"
      ]
    },
    {
      "cell_type": "code",
      "metadata": {
        "id": "Yr2r3fSoq9la",
        "outputId": "fe5e5db3-b735-4655-8ccb-f6833d8b839b"
      },
      "source": [
        "arr = [5, 6, 7, 8, 9]\n",
        "length = len(arr)\n",
        "rotation_time = 2\n",
        "\n",
        "\n",
        "def rotation(a, l, r):\n",
        "    for i in range(0, r):\n",
        "        \n",
        "        temp = a[0]\n",
        "        for j in range(0, l-1):\n",
        "            a[j] = a[j+1]\n",
        "        a[l-1] = temp\n",
        "        \n",
        "def printarray(a, l):\n",
        "    for i in range(0, l):\n",
        "        print(a[i], end=\" \")\n",
        "    \n",
        "\n",
        "rotation(arr, length, rotation_time)\n",
        "printarray(arr, length)"
      ],
      "execution_count": null,
      "outputs": [
        {
          "output_type": "stream",
          "text": [
            "7 8 9 5 6 "
          ],
          "name": "stdout"
        }
      ]
    },
    {
      "cell_type": "code",
      "metadata": {
        "id": "UwtK5LBcq9le",
        "outputId": "3324ed61-bd27-496d-ca01-c414dd5dbbd0"
      },
      "source": [
        "arr = [5, 6, 733, 8, 9, 123]\n",
        "length = len(arr)\n",
        "\n",
        "def maximum(a, l):\n",
        "    max1 = a[0]\n",
        "    for i in range(1, l):\n",
        "        if max1 < a[i]:\n",
        "            max1 = a[i]\n",
        "    return max1\n",
        "\n",
        "print(maximum(arr, length))"
      ],
      "execution_count": null,
      "outputs": [
        {
          "output_type": "stream",
          "text": [
            "733\n"
          ],
          "name": "stdout"
        }
      ]
    },
    {
      "cell_type": "code",
      "metadata": {
        "id": "lh-w3f8Wq9lh",
        "outputId": "22ee1662-c31e-4fec-8fb0-688d649ec82c"
      },
      "source": [
        "arr = [5, 6, 733, 8, 9, 123]\n",
        "length = len(arr)\n",
        "\n",
        "def maximum(a, l):\n",
        "    max1 = a[0]\n",
        "    for i in range(1, l):\n",
        "        if max1 > a[i]:\n",
        "            max1 = a[i]\n",
        "    return max1\n",
        "\n",
        "print(maximum(arr, length))"
      ],
      "execution_count": null,
      "outputs": [
        {
          "output_type": "stream",
          "text": [
            "5\n"
          ],
          "name": "stdout"
        }
      ]
    },
    {
      "cell_type": "code",
      "metadata": {
        "id": "oJAm_v_2q9lk",
        "outputId": "ec0e0d33-ee27-41f8-8760-d5f000c433e0"
      },
      "source": [
        "def findremainder(arr, lens, n): \n",
        "    mul = 1\n",
        "  \n",
        "    # find the individual \n",
        "    # remainder and  \n",
        "    # multiple with mul. \n",
        "    for i in range(lens):  \n",
        "        mul = (mul * (arr[i] % n)) % n \n",
        "      \n",
        "    return mul % n \n",
        "  \n",
        "# Driven code \n",
        "arr = [1 , 2, 3, 4, 5, 6, 7,8, 9 ] \n",
        "lens = len(arr) \n",
        "n = 4\n",
        "  \n",
        "# print the remainder \n",
        "# of after multiple \n",
        "# all the numbers \n",
        "print( findremainder(arr, lens, n)) "
      ],
      "execution_count": null,
      "outputs": [
        {
          "output_type": "stream",
          "text": [
            "0\n"
          ],
          "name": "stdout"
        }
      ]
    },
    {
      "cell_type": "code",
      "metadata": {
        "id": "av_PDSTiq9lm",
        "outputId": "5b2aaa58-f82e-45ad-a60b-06b2d0fcef91"
      },
      "source": [
        "a = int(input())\n",
        "b = int(input())\n",
        "\n",
        "sum1 = a + b\n",
        "print(sum1)"
      ],
      "execution_count": null,
      "outputs": [
        {
          "output_type": "stream",
          "text": [
            "2\n",
            "3\n",
            "5\n"
          ],
          "name": "stdout"
        }
      ]
    },
    {
      "cell_type": "code",
      "metadata": {
        "id": "ivZJjSqRq9lo",
        "outputId": "6ec48fe5-804b-45ad-b478-4ae673c3c92d"
      },
      "source": [
        "num = int(input())\n",
        "\n",
        "def factorial(n):\n",
        "    if n == 0:\n",
        "        return 1\n",
        "    elif n == 1:\n",
        "        return 1\n",
        "    else:\n",
        "        return n * factorial(n-1)\n",
        "\n",
        "print(factorial(num))"
      ],
      "execution_count": null,
      "outputs": [
        {
          "output_type": "stream",
          "text": [
            "7\n",
            "5040\n"
          ],
          "name": "stdout"
        }
      ]
    },
    {
      "cell_type": "code",
      "metadata": {
        "id": "E9URJmsvq9lr",
        "outputId": "aae5ce86-38b3-44e4-e5cf-e6b6008a34f7"
      },
      "source": [
        "p = int(input())\n",
        "t = int(input())\n",
        "r = float(input())\n",
        "\n",
        "def simple_interest(p1, t1, r1):\n",
        "    if 0 < r1 <= 100:\n",
        "        simple = (p1 * t1 * r1) // 100\n",
        "        print(simple)\n",
        "\n",
        "simple_interest(p, t, r)"
      ],
      "execution_count": null,
      "outputs": [
        {
          "output_type": "stream",
          "text": [
            "10000\n",
            "5\n",
            "5\n",
            "2500.0\n"
          ],
          "name": "stdout"
        }
      ]
    },
    {
      "cell_type": "code",
      "metadata": {
        "id": "u9M2ICHHq9lv",
        "outputId": "2382a2d5-2ae9-420d-a870-e87349d482ae"
      },
      "source": [
        "p = int(input())\n",
        "t = int(input())\n",
        "r = float(input())\n",
        "\n",
        "def interest(p1, t1, r1):\n",
        "    if 0 < r1 <= 100:\n",
        "        a = p * pow((1 + (r/100)), t)\n",
        "        c_interest = a - p\n",
        "        print(c_interest)\n",
        "        \n",
        "interest(p, t, r)"
      ],
      "execution_count": null,
      "outputs": [
        {
          "output_type": "stream",
          "text": [
            "12000\n",
            "2\n",
            "5.4\n",
            "1330.9920000000002\n"
          ],
          "name": "stdout"
        }
      ]
    },
    {
      "cell_type": "code",
      "metadata": {
        "id": "xZS9dxnFq9lx",
        "outputId": "39d752aa-fc56-40ab-eb10-84f11593c404",
        "colab": {
          "base_uri": "https://localhost:8080/",
          "height": 50
        }
      },
      "source": [
        "num = int(input())\n",
        "lens = len(str(num))\n",
        "\n",
        "def armstrong(n, l):\n",
        "    sum1 = 0\n",
        "    temp = n\n",
        "    \n",
        "    while temp > 0:\n",
        "        n1 = temp % 10\n",
        "        sum1 += n1 ** l\n",
        "        \n",
        "        temp //= 10\n",
        "        \n",
        "    if n == sum1:\n",
        "        print(\"armstrong\")\n",
        "        \n",
        "    else:\n",
        "        print(\"not\")\n",
        "        \n",
        "armstrong(num, lens)"
      ],
      "execution_count": null,
      "outputs": [
        {
          "output_type": "stream",
          "text": [
            "153\n",
            "armstrong\n"
          ],
          "name": "stdout"
        }
      ]
    },
    {
      "cell_type": "code",
      "metadata": {
        "id": "Ei39mfRyq9lz",
        "outputId": "069eff32-4bf7-4761-ddd1-7ea3c969c35a",
        "colab": {
          "base_uri": "https://localhost:8080/",
          "height": 50
        }
      },
      "source": [
        "radius = int(input())\n",
        "\n",
        "def area(r):\n",
        "    pie = 3.14\n",
        "    circle = pie * r * r\n",
        "    print(circle)\n",
        "    \n",
        "area(radius)"
      ],
      "execution_count": null,
      "outputs": [
        {
          "output_type": "stream",
          "text": [
            "123\n",
            "47505.060000000005\n"
          ],
          "name": "stdout"
        }
      ]
    },
    {
      "cell_type": "code",
      "metadata": {
        "id": "vSiDqxXLsnHU",
        "outputId": "8b2f30f4-f18c-4525-fb8a-06c6abac884f",
        "colab": {
          "base_uri": "https://localhost:8080/",
          "height": 302
        }
      },
      "source": [
        "start = int(input())\n",
        "end = int(input())\n",
        "\n",
        "def prime(s, e):\n",
        "\n",
        "  for i in range(s, e):\n",
        "    if i > 1:\n",
        "      for j in range(2, i):\n",
        "        if i % j == 0:\n",
        "          break\n",
        "\n",
        "      else:\n",
        "        print(i)\n",
        "\n",
        "prime(start, end)\n",
        "      "
      ],
      "execution_count": null,
      "outputs": [
        {
          "output_type": "stream",
          "text": [
            "2\n",
            "50\n",
            "2\n",
            "3\n",
            "5\n",
            "7\n",
            "11\n",
            "13\n",
            "17\n",
            "19\n",
            "23\n",
            "29\n",
            "31\n",
            "37\n",
            "41\n",
            "43\n",
            "47\n"
          ],
          "name": "stdout"
        }
      ]
    },
    {
      "cell_type": "code",
      "metadata": {
        "id": "wV0Kk67vt03Z",
        "outputId": "b3d785ef-41d0-4d31-e4fd-cca09d552d25",
        "colab": {
          "base_uri": "https://localhost:8080/",
          "height": 50
        }
      },
      "source": [
        "num = int(input())\n",
        "\n",
        "def prime(n):\n",
        "  for i in range(2, n):\n",
        "    if n % i == 0:\n",
        "      print(\"not prime\")\n",
        "      break\n",
        "  else:\n",
        "    print(\"prime\")\n",
        "\n",
        "\n",
        "prime(num)"
      ],
      "execution_count": null,
      "outputs": [
        {
          "output_type": "stream",
          "text": [
            "59\n",
            "prime\n"
          ],
          "name": "stdout"
        }
      ]
    },
    {
      "cell_type": "code",
      "metadata": {
        "id": "wBCwQy5RvxFm",
        "outputId": "76f943e3-c144-4f10-b826-d608c33881b3",
        "colab": {
          "base_uri": "https://localhost:8080/",
          "height": 67
        }
      },
      "source": [
        "start = int(input())\n",
        "end = int(input())\n",
        "\n",
        "def arm(s, e):\n",
        "  for i in range(s, e+1):\n",
        "    lens = len(str(i))\n",
        "\n",
        "    sum1 = 0\n",
        "    temp = i\n",
        "\n",
        "    while temp > 0:\n",
        "      n1 = temp % 10\n",
        "      sum1 += n1 ** lens\n",
        "\n",
        "      temp //= 10\n",
        "    \n",
        "    if i == sum1:\n",
        "      print(i, end = \" \")\n",
        "      \n",
        "arm(start, end)\n",
        "\n"
      ],
      "execution_count": null,
      "outputs": [
        {
          "output_type": "stream",
          "text": [
            "1\n",
            "10000000\n",
            "1 2 3 4 5 6 7 8 9 153 370 371 407 1634 8208 9474 54748 92727 93084 548834 1741725 4210818 9800817 9926315 "
          ],
          "name": "stdout"
        }
      ]
    },
    {
      "cell_type": "code",
      "metadata": {
        "id": "RVy88K6zxLrh",
        "outputId": "88775b04-be61-422e-88d2-ee48a82c8305",
        "colab": {
          "base_uri": "https://localhost:8080/",
          "height": 50
        }
      },
      "source": [
        "num = int(input())\n",
        "\n",
        "def fibo(n):\n",
        "  if n < 0:\n",
        "    print(\"does not exist\")\n",
        "  elif n == 1:\n",
        "    return 0\n",
        "  elif n == 2:\n",
        "    return 1\n",
        "  else:\n",
        "    return fibo(n-1) + fibo(n-2)\n",
        "  \n",
        "print(fibo(num))"
      ],
      "execution_count": null,
      "outputs": [
        {
          "output_type": "stream",
          "text": [
            "11\n",
            "55\n"
          ],
          "name": "stdout"
        }
      ]
    },
    {
      "cell_type": "code",
      "metadata": {
        "id": "bpk7C5lWynZz"
      },
      "source": [
        "string = str(input())\n",
        "\n",
        "def ascii(s):\n",
        "  print(ord(s))\n",
        "\n",
        "ascii(string)"
      ],
      "execution_count": null,
      "outputs": []
    },
    {
      "cell_type": "code",
      "metadata": {
        "id": "66Q-4ZhGzurm",
        "outputId": "d3ef4969-5179-47cd-dba4-b6b7fd24741b",
        "colab": {
          "base_uri": "https://localhost:8080/",
          "height": 50
        }
      },
      "source": [
        "import math\n",
        "num = int(input())\n",
        "\n",
        "def issquare(n):\n",
        "  n1 = int(math.sqrt(n))\n",
        "  return n1 * n1 == n\n",
        "\n",
        "def isfibo(m):\n",
        "  return issquare(5 * m * m + 4) or issquare(5 * m * m - 4)\n",
        "\n",
        "\n",
        "if isfibo(num) == True:\n",
        "  print(\"yes\")\n",
        "else:\n",
        "  print(\"no\")\n"
      ],
      "execution_count": null,
      "outputs": [
        {
          "output_type": "stream",
          "text": [
            "14\n",
            "no\n"
          ],
          "name": "stdout"
        }
      ]
    },
    {
      "cell_type": "code",
      "metadata": {
        "id": "TKDXbaXR0zlI",
        "outputId": "7fc5f140-0830-464e-c19f-d5357cbae545",
        "colab": {
          "base_uri": "https://localhost:8080/",
          "height": 34
        }
      },
      "source": [
        "arr = [1,2,3,4,5,6,7]\n",
        "\n",
        "def sum1(a):\n",
        "  print(sum(a))\n",
        "\n",
        "sum1(arr)"
      ],
      "execution_count": null,
      "outputs": [
        {
          "output_type": "stream",
          "text": [
            "28\n"
          ],
          "name": "stdout"
        }
      ]
    },
    {
      "cell_type": "code",
      "metadata": {
        "id": "335ndCwX19y1",
        "outputId": "f1c4e7dd-a871-4058-84e8-062e1bb0ac4b",
        "colab": {
          "base_uri": "https://localhost:8080/",
          "height": 34
        }
      },
      "source": [
        "arr = [1,2,312,4,5,6,7]\n",
        "lens = len(arr)\n",
        "\n",
        "def largest(a, l):\n",
        "  max = a[0]\n",
        "  for i in range(0, l):\n",
        "    if max < a[i]:\n",
        "      max = a[i]\n",
        "  return max\n",
        "\n",
        "print(largest(arr, lens))"
      ],
      "execution_count": null,
      "outputs": [
        {
          "output_type": "stream",
          "text": [
            "312\n"
          ],
          "name": "stdout"
        }
      ]
    },
    {
      "cell_type": "code",
      "metadata": {
        "id": "mEuuAVeh2XPx",
        "outputId": "1ea997ff-ee87-4e36-cb9b-30fa3d92c50a",
        "colab": {
          "base_uri": "https://localhost:8080/",
          "height": 34
        }
      },
      "source": [
        "arr = [1,2,3,4,5,6,7,8]\n",
        "lens = len(arr)\n",
        "rotation_time = 4\n",
        "\n",
        "def arrtation(a, l, r):\n",
        "  for i in range(0, r):\n",
        "    temp = a[0]\n",
        "    for j in range(0, l-1):\n",
        "      a[j] = a[j+1]\n",
        "    a[l-1] = temp\n",
        "\n",
        "def printarr(a, l):\n",
        "  for i in range(0, l):\n",
        "    print(a[i], end = \" \")\n",
        "\n",
        "\n",
        "arrtation(arr, lens, rotation_time)\n",
        "printarr(arr, lens)\n",
        "\n",
        "    "
      ],
      "execution_count": null,
      "outputs": [
        {
          "output_type": "stream",
          "text": [
            "5 6 7 8 1 2 3 4 "
          ],
          "name": "stdout"
        }
      ]
    },
    {
      "cell_type": "code",
      "metadata": {
        "id": "agj4aMGL4d4M",
        "outputId": "e638f16f-df01-4c29-c998-312ef8abc89b",
        "colab": {
          "base_uri": "https://localhost:8080/",
          "height": 34
        }
      },
      "source": [
        "arr = [1,2,3,4,5,6,7,8]\n",
        "lens = len(arr)\n",
        "n = 10\n",
        "\n",
        "\n",
        "def mul(a, l):\n",
        "  s = 0\n",
        "  for i in range(l):\n",
        "    s = (s * (a[i] % n)) % n\n",
        "  print(s % n)\n",
        "\n",
        "mul(arr, lens)"
      ],
      "execution_count": null,
      "outputs": [
        {
          "output_type": "stream",
          "text": [
            "0\n"
          ],
          "name": "stdout"
        }
      ]
    },
    {
      "cell_type": "code",
      "metadata": {
        "id": "qeOIhHLQ593O",
        "outputId": "0b758aa4-8f29-432d-970d-f04f872f567a",
        "colab": {
          "base_uri": "https://localhost:8080/",
          "height": 50
        }
      },
      "source": [
        "arr = [1,2,3,4,5,6,6,9]\n",
        "lens = len(arr)\n",
        "n = 10\n",
        "\n",
        "def sumation(a, l):\n",
        "  s = 0\n",
        "  for i in range(0, l):\n",
        "    s = (s + (a[i] % n)) %n\n",
        "  print(s % n)\n",
        "\n",
        "def sum1(a):\n",
        "  print(sum(a))\n",
        "\n",
        "sum1(arr)\n",
        "sumation(arr, lens)"
      ],
      "execution_count": null,
      "outputs": [
        {
          "output_type": "stream",
          "text": [
            "36\n",
            "6\n"
          ],
          "name": "stdout"
        }
      ]
    },
    {
      "cell_type": "code",
      "metadata": {
        "id": "WGAuHo9C6sTY",
        "outputId": "671997cf-e0a2-4c76-f353-70b812cc8381",
        "colab": {
          "base_uri": "https://localhost:8080/",
          "height": 34
        }
      },
      "source": [
        "arr = [1,2,3,4,5,6,7,8]\n",
        "lens = len(arr)\n",
        "\n",
        "def swap(a, l):\n",
        "  temp = a[2]\n",
        "  a[2] = a[l-4] \n",
        "  a[l-4] = temp\n",
        "\n",
        "  return a\n",
        "\n",
        "print(swap(arr, lens))"
      ],
      "execution_count": null,
      "outputs": [
        {
          "output_type": "stream",
          "text": [
            "[1, 2, 5, 4, 3, 6, 7, 8]\n"
          ],
          "name": "stdout"
        }
      ]
    },
    {
      "cell_type": "code",
      "metadata": {
        "id": "8Xvc9WkGfdkq",
        "outputId": "29b3326d-f297-49b7-d251-ebb01e5410fb",
        "colab": {
          "base_uri": "https://localhost:8080/",
          "height": 34
        }
      },
      "source": [
        "arr = ['deep', 'raj', 'raj', 'deep', 'sam', 'pal', 'pal']\n",
        "lens = len(arr)\n",
        "word = 'raj'\n",
        "n = 2\n",
        "\n",
        "def rem(a, l, w, n1):\n",
        "  new_list = []\n",
        "  count = 0\n",
        "\n",
        "  for i in a:\n",
        "    if i == w:\n",
        "      count += 1\n",
        "      if count != n1:\n",
        "        new_list.append(i)\n",
        "    else:\n",
        "      new_list.append(i)\n",
        "\n",
        "  a = new_list\n",
        "\n",
        "  if count == 0:\n",
        "    print(\"not found\")\n",
        "  else:\n",
        "    print(a)\n",
        "\n",
        "rem(arr, lens, word, n)\n",
        "  "
      ],
      "execution_count": null,
      "outputs": [
        {
          "output_type": "stream",
          "text": [
            "['deep', 'raj', 'deep', 'sam', 'pal', 'pal']\n"
          ],
          "name": "stdout"
        }
      ]
    },
    {
      "cell_type": "code",
      "metadata": {
        "id": "BDoRIrGym6-7",
        "outputId": "f9eb892a-b621-4b2c-a2fc-c45de0f1829c",
        "colab": {
          "base_uri": "https://localhost:8080/",
          "height": 34
        }
      },
      "source": [
        "  arr = [134,5,36,34647,56,8548,688,845,88,5854,8858,8546]\n",
        "\n",
        "  lens = len(arr)\n",
        "\n",
        "  for i in arr:\n",
        "    if i == 8548:\n",
        "      print(\"yes\")\n"
      ],
      "execution_count": null,
      "outputs": [
        {
          "output_type": "stream",
          "text": [
            "yes\n"
          ],
          "name": "stdout"
        }
      ]
    },
    {
      "cell_type": "code",
      "metadata": {
        "id": "Gi9rvJiJoX4_",
        "outputId": "fcbe5228-1ef0-4d7c-9a27-62633bfa8a06",
        "colab": {
          "base_uri": "https://localhost:8080/",
          "height": 34
        }
      },
      "source": [
        "arr = [134,5,36,34647,56,8548,688,845,88,5854,8858,8546]\n",
        "arr *= 0\n",
        "arr"
      ],
      "execution_count": null,
      "outputs": [
        {
          "output_type": "execute_result",
          "data": {
            "text/plain": [
              "[]"
            ]
          },
          "metadata": {
            "tags": []
          },
          "execution_count": 16
        }
      ]
    },
    {
      "cell_type": "code",
      "metadata": {
        "id": "AIEoiwi7pp69",
        "outputId": "d4b29b65-1daf-4aa7-efcf-a3c32d170b27",
        "colab": {
          "base_uri": "https://localhost:8080/",
          "height": 34
        }
      },
      "source": [
        "arr = [134,5,36,34647,56,8548,688,845,88,5854,8858,8546]\n",
        "del arr[:]\n",
        "arr"
      ],
      "execution_count": null,
      "outputs": [
        {
          "output_type": "execute_result",
          "data": {
            "text/plain": [
              "[]"
            ]
          },
          "metadata": {
            "tags": []
          },
          "execution_count": 20
        }
      ]
    },
    {
      "cell_type": "code",
      "metadata": {
        "id": "ep3WsQFhrJvv",
        "outputId": "2bfaf09d-4986-4d06-9560-8e6fa9e1e1c5",
        "colab": {
          "base_uri": "https://localhost:8080/",
          "height": 34
        }
      },
      "source": [
        "arr = [134,5,36,34647,56,8548,688,845,88,5854,8858,8546]\n",
        "\n",
        "\n",
        "arr.pop(1)\n",
        "\n",
        "print(arr)"
      ],
      "execution_count": null,
      "outputs": [
        {
          "output_type": "stream",
          "text": [
            "[134, 36, 34647, 56, 8548, 688, 845, 88, 5854, 8858, 8546]\n"
          ],
          "name": "stdout"
        }
      ]
    },
    {
      "cell_type": "code",
      "metadata": {
        "id": "sXyqaDAUrjTD",
        "outputId": "a12db081-1738-4856-eab3-c5ddf58b459f",
        "colab": {
          "base_uri": "https://localhost:8080/",
          "height": 34
        }
      },
      "source": [
        "arr = [134,5,36,34647,56,8548,688,845,88,5854,8858,8546]\n",
        "\n",
        "def rev(a):\n",
        "  a.reverse()\n",
        "  print(a)\n",
        "\n",
        "rev(arr)\n",
        "\n"
      ],
      "execution_count": null,
      "outputs": [
        {
          "output_type": "stream",
          "text": [
            "[8546, 8858, 5854, 88, 845, 688, 8548, 56, 34647, 36, 5, 134]\n"
          ],
          "name": "stdout"
        }
      ]
    },
    {
      "cell_type": "code",
      "metadata": {
        "id": "VjennQc1r6EK",
        "outputId": "e134043e-b67f-41fe-ecd2-c1d70f18713e",
        "colab": {
          "base_uri": "https://localhost:8080/",
          "height": 34
        }
      },
      "source": [
        "arr = [134,5,36,34647,56,8548,688,845,88,5854,8858,8546]\n",
        "\n",
        "def rev(a):\n",
        "  new = a[::-1]\n",
        "  print(new)\n",
        "\n",
        "rev(arr)"
      ],
      "execution_count": null,
      "outputs": [
        {
          "output_type": "stream",
          "text": [
            "[8546, 8858, 5854, 88, 845, 688, 8548, 56, 34647, 36, 5, 134]\n"
          ],
          "name": "stdout"
        }
      ]
    },
    {
      "cell_type": "code",
      "metadata": {
        "id": "c3lWG227sFHo",
        "outputId": "59168a8c-ffbd-4743-b5ee-b632e149d3f1",
        "colab": {
          "base_uri": "https://localhost:8080/",
          "height": 34
        }
      },
      "source": [
        "arr = [1,2,3,4,5,6]\n",
        "\n",
        "def cloing(a):\n",
        "  new = a[:]\n",
        "  return new\n",
        "\n",
        "print(cloing(arr))"
      ],
      "execution_count": 1,
      "outputs": [
        {
          "output_type": "stream",
          "text": [
            "[1, 2, 3, 4, 5, 6]\n"
          ],
          "name": "stdout"
        }
      ]
    },
    {
      "cell_type": "code",
      "metadata": {
        "id": "yFIB4hx2uOQR",
        "outputId": "e9647dcf-9ff6-4038-d04c-4e28738bd735",
        "colab": {
          "base_uri": "https://localhost:8080/",
          "height": 34
        }
      },
      "source": [
        " arr = [1,2,3,4,5,6]\n",
        "\n",
        " def cloning(a):\n",
        "   new_arr = []\n",
        "   for i in arr:\n",
        "     new_arr.append(i)\n",
        "   return new_arr\n",
        "\n",
        " print(cloning(arr))"
      ],
      "execution_count": 4,
      "outputs": [
        {
          "output_type": "stream",
          "text": [
            "[1, 2, 3, 4, 5, 6]\n"
          ],
          "name": "stdout"
        }
      ]
    },
    {
      "cell_type": "code",
      "metadata": {
        "id": "kfBSIxz8u_KU",
        "outputId": "9ffdd037-2f0e-47b0-8646-1d7330cc6833",
        "colab": {
          "base_uri": "https://localhost:8080/",
          "height": 34
        }
      },
      "source": [
        "arr = [1,2,3,4,2,3,1,2,3,5,42,1,2,1,2,3]\n",
        "word = 2\n",
        "\n",
        "def deep(a, w):\n",
        "  count = 0\n",
        "  lens = len(a)\n",
        "\n",
        "  for i in range(0, lens):\n",
        "    if a[i] == w:\n",
        "      count += 1\n",
        "  return count\n",
        "\n",
        "print(deep(arr, word))"
      ],
      "execution_count": 10,
      "outputs": [
        {
          "output_type": "stream",
          "text": [
            "5\n"
          ],
          "name": "stdout"
        }
      ]
    },
    {
      "cell_type": "code",
      "metadata": {
        "id": "T-vnw1-HvPai"
      },
      "source": [
        "\n",
        "\n"
      ],
      "execution_count": null,
      "outputs": []
    }
  ]
}