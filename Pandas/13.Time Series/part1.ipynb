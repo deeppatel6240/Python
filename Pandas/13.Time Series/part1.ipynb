{
 "cells": [
  {
   "cell_type": "code",
   "execution_count": 3,
   "metadata": {},
   "outputs": [],
   "source": [
    "import pandas as pd"
   ]
  },
  {
   "cell_type": "code",
   "execution_count": 7,
   "metadata": {},
   "outputs": [
    {
     "data": {
      "text/html": [
       "<div>\n",
       "<style scoped>\n",
       "    .dataframe tbody tr th:only-of-type {\n",
       "        vertical-align: middle;\n",
       "    }\n",
       "\n",
       "    .dataframe tbody tr th {\n",
       "        vertical-align: top;\n",
       "    }\n",
       "\n",
       "    .dataframe thead th {\n",
       "        text-align: right;\n",
       "    }\n",
       "</style>\n",
       "<table border=\"1\" class=\"dataframe\">\n",
       "  <thead>\n",
       "    <tr style=\"text-align: right;\">\n",
       "      <th></th>\n",
       "      <th>Date</th>\n",
       "      <th>Open</th>\n",
       "      <th>High</th>\n",
       "      <th>Low</th>\n",
       "      <th>Close</th>\n",
       "      <th>Volume</th>\n",
       "    </tr>\n",
       "  </thead>\n",
       "  <tbody>\n",
       "    <tr>\n",
       "      <th>0</th>\n",
       "      <td>2018-10-25 15:30:00</td>\n",
       "      <td>254.50</td>\n",
       "      <td>255.00</td>\n",
       "      <td>248.40</td>\n",
       "      <td>249.55</td>\n",
       "      <td>33066232</td>\n",
       "    </tr>\n",
       "    <tr>\n",
       "      <th>1</th>\n",
       "      <td>2018-10-26 15:30:00</td>\n",
       "      <td>252.00</td>\n",
       "      <td>252.50</td>\n",
       "      <td>247.40</td>\n",
       "      <td>248.10</td>\n",
       "      <td>20543437</td>\n",
       "    </tr>\n",
       "    <tr>\n",
       "      <th>2</th>\n",
       "      <td>2018-10-29 15:30:00</td>\n",
       "      <td>250.00</td>\n",
       "      <td>269.25</td>\n",
       "      <td>248.40</td>\n",
       "      <td>267.90</td>\n",
       "      <td>37768359</td>\n",
       "    </tr>\n",
       "    <tr>\n",
       "      <th>3</th>\n",
       "      <td>2018-10-30 15:30:00</td>\n",
       "      <td>267.50</td>\n",
       "      <td>279.10</td>\n",
       "      <td>266.00</td>\n",
       "      <td>273.15</td>\n",
       "      <td>33401683</td>\n",
       "    </tr>\n",
       "    <tr>\n",
       "      <th>4</th>\n",
       "      <td>2018-10-31 15:30:00</td>\n",
       "      <td>275.00</td>\n",
       "      <td>282.75</td>\n",
       "      <td>268.60</td>\n",
       "      <td>281.40</td>\n",
       "      <td>28137370</td>\n",
       "    </tr>\n",
       "    <tr>\n",
       "      <th>...</th>\n",
       "      <td>...</td>\n",
       "      <td>...</td>\n",
       "      <td>...</td>\n",
       "      <td>...</td>\n",
       "      <td>...</td>\n",
       "      <td>...</td>\n",
       "    </tr>\n",
       "    <tr>\n",
       "      <th>423</th>\n",
       "      <td>2020-07-16 15:30:00</td>\n",
       "      <td>185.00</td>\n",
       "      <td>186.95</td>\n",
       "      <td>181.65</td>\n",
       "      <td>186.25</td>\n",
       "      <td>46549518</td>\n",
       "    </tr>\n",
       "    <tr>\n",
       "      <th>424</th>\n",
       "      <td>2020-07-17 15:30:00</td>\n",
       "      <td>186.80</td>\n",
       "      <td>189.50</td>\n",
       "      <td>185.00</td>\n",
       "      <td>188.20</td>\n",
       "      <td>47035751</td>\n",
       "    </tr>\n",
       "    <tr>\n",
       "      <th>425</th>\n",
       "      <td>2020-07-20 15:30:00</td>\n",
       "      <td>190.00</td>\n",
       "      <td>193.25</td>\n",
       "      <td>188.75</td>\n",
       "      <td>190.75</td>\n",
       "      <td>45680606</td>\n",
       "    </tr>\n",
       "    <tr>\n",
       "      <th>426</th>\n",
       "      <td>2020-07-21 15:30:00</td>\n",
       "      <td>192.45</td>\n",
       "      <td>196.20</td>\n",
       "      <td>191.50</td>\n",
       "      <td>194.40</td>\n",
       "      <td>59286092</td>\n",
       "    </tr>\n",
       "    <tr>\n",
       "      <th>427</th>\n",
       "      <td>2020-07-22 15:30:00</td>\n",
       "      <td>195.70</td>\n",
       "      <td>196.75</td>\n",
       "      <td>190.10</td>\n",
       "      <td>192.00</td>\n",
       "      <td>62276770</td>\n",
       "    </tr>\n",
       "  </tbody>\n",
       "</table>\n",
       "<p>428 rows × 6 columns</p>\n",
       "</div>"
      ],
      "text/plain": [
       "                   Date    Open    High     Low   Close    Volume\n",
       "0   2018-10-25 15:30:00  254.50  255.00  248.40  249.55  33066232\n",
       "1   2018-10-26 15:30:00  252.00  252.50  247.40  248.10  20543437\n",
       "2   2018-10-29 15:30:00  250.00  269.25  248.40  267.90  37768359\n",
       "3   2018-10-30 15:30:00  267.50  279.10  266.00  273.15  33401683\n",
       "4   2018-10-31 15:30:00  275.00  282.75  268.60  281.40  28137370\n",
       "..                  ...     ...     ...     ...     ...       ...\n",
       "423 2020-07-16 15:30:00  185.00  186.95  181.65  186.25  46549518\n",
       "424 2020-07-17 15:30:00  186.80  189.50  185.00  188.20  47035751\n",
       "425 2020-07-20 15:30:00  190.00  193.25  188.75  190.75  45680606\n",
       "426 2020-07-21 15:30:00  192.45  196.20  191.50  194.40  59286092\n",
       "427 2020-07-22 15:30:00  195.70  196.75  190.10  192.00  62276770\n",
       "\n",
       "[428 rows x 6 columns]"
      ]
     },
     "execution_count": 7,
     "metadata": {},
     "output_type": "execute_result"
    }
   ],
   "source": [
    "df = pd.read_excel('SBIN _Stocks.xlsx', 'SBIN', parse_dates = ['Date'])\n",
    "df"
   ]
  },
  {
   "cell_type": "code",
   "execution_count": 9,
   "metadata": {},
   "outputs": [
    {
     "data": {
      "text/plain": [
       "pandas._libs.tslibs.timestamps.Timestamp"
      ]
     },
     "execution_count": 9,
     "metadata": {},
     "output_type": "execute_result"
    }
   ],
   "source": [
    "type(df.Date[0])"
   ]
  },
  {
   "cell_type": "code",
   "execution_count": 11,
   "metadata": {},
   "outputs": [],
   "source": [
    "df.set_index('Date', inplace =True)"
   ]
  },
  {
   "cell_type": "code",
   "execution_count": 12,
   "metadata": {},
   "outputs": [
    {
     "data": {
      "text/html": [
       "<div>\n",
       "<style scoped>\n",
       "    .dataframe tbody tr th:only-of-type {\n",
       "        vertical-align: middle;\n",
       "    }\n",
       "\n",
       "    .dataframe tbody tr th {\n",
       "        vertical-align: top;\n",
       "    }\n",
       "\n",
       "    .dataframe thead th {\n",
       "        text-align: right;\n",
       "    }\n",
       "</style>\n",
       "<table border=\"1\" class=\"dataframe\">\n",
       "  <thead>\n",
       "    <tr style=\"text-align: right;\">\n",
       "      <th></th>\n",
       "      <th>Open</th>\n",
       "      <th>High</th>\n",
       "      <th>Low</th>\n",
       "      <th>Close</th>\n",
       "      <th>Volume</th>\n",
       "    </tr>\n",
       "    <tr>\n",
       "      <th>Date</th>\n",
       "      <th></th>\n",
       "      <th></th>\n",
       "      <th></th>\n",
       "      <th></th>\n",
       "      <th></th>\n",
       "    </tr>\n",
       "  </thead>\n",
       "  <tbody>\n",
       "    <tr>\n",
       "      <th>2018-10-25 15:30:00</th>\n",
       "      <td>254.50</td>\n",
       "      <td>255.00</td>\n",
       "      <td>248.40</td>\n",
       "      <td>249.55</td>\n",
       "      <td>33066232</td>\n",
       "    </tr>\n",
       "    <tr>\n",
       "      <th>2018-10-26 15:30:00</th>\n",
       "      <td>252.00</td>\n",
       "      <td>252.50</td>\n",
       "      <td>247.40</td>\n",
       "      <td>248.10</td>\n",
       "      <td>20543437</td>\n",
       "    </tr>\n",
       "    <tr>\n",
       "      <th>2018-10-29 15:30:00</th>\n",
       "      <td>250.00</td>\n",
       "      <td>269.25</td>\n",
       "      <td>248.40</td>\n",
       "      <td>267.90</td>\n",
       "      <td>37768359</td>\n",
       "    </tr>\n",
       "    <tr>\n",
       "      <th>2018-10-30 15:30:00</th>\n",
       "      <td>267.50</td>\n",
       "      <td>279.10</td>\n",
       "      <td>266.00</td>\n",
       "      <td>273.15</td>\n",
       "      <td>33401683</td>\n",
       "    </tr>\n",
       "    <tr>\n",
       "      <th>2018-10-31 15:30:00</th>\n",
       "      <td>275.00</td>\n",
       "      <td>282.75</td>\n",
       "      <td>268.60</td>\n",
       "      <td>281.40</td>\n",
       "      <td>28137370</td>\n",
       "    </tr>\n",
       "    <tr>\n",
       "      <th>...</th>\n",
       "      <td>...</td>\n",
       "      <td>...</td>\n",
       "      <td>...</td>\n",
       "      <td>...</td>\n",
       "      <td>...</td>\n",
       "    </tr>\n",
       "    <tr>\n",
       "      <th>2020-07-16 15:30:00</th>\n",
       "      <td>185.00</td>\n",
       "      <td>186.95</td>\n",
       "      <td>181.65</td>\n",
       "      <td>186.25</td>\n",
       "      <td>46549518</td>\n",
       "    </tr>\n",
       "    <tr>\n",
       "      <th>2020-07-17 15:30:00</th>\n",
       "      <td>186.80</td>\n",
       "      <td>189.50</td>\n",
       "      <td>185.00</td>\n",
       "      <td>188.20</td>\n",
       "      <td>47035751</td>\n",
       "    </tr>\n",
       "    <tr>\n",
       "      <th>2020-07-20 15:30:00</th>\n",
       "      <td>190.00</td>\n",
       "      <td>193.25</td>\n",
       "      <td>188.75</td>\n",
       "      <td>190.75</td>\n",
       "      <td>45680606</td>\n",
       "    </tr>\n",
       "    <tr>\n",
       "      <th>2020-07-21 15:30:00</th>\n",
       "      <td>192.45</td>\n",
       "      <td>196.20</td>\n",
       "      <td>191.50</td>\n",
       "      <td>194.40</td>\n",
       "      <td>59286092</td>\n",
       "    </tr>\n",
       "    <tr>\n",
       "      <th>2020-07-22 15:30:00</th>\n",
       "      <td>195.70</td>\n",
       "      <td>196.75</td>\n",
       "      <td>190.10</td>\n",
       "      <td>192.00</td>\n",
       "      <td>62276770</td>\n",
       "    </tr>\n",
       "  </tbody>\n",
       "</table>\n",
       "<p>428 rows × 5 columns</p>\n",
       "</div>"
      ],
      "text/plain": [
       "                       Open    High     Low   Close    Volume\n",
       "Date                                                         \n",
       "2018-10-25 15:30:00  254.50  255.00  248.40  249.55  33066232\n",
       "2018-10-26 15:30:00  252.00  252.50  247.40  248.10  20543437\n",
       "2018-10-29 15:30:00  250.00  269.25  248.40  267.90  37768359\n",
       "2018-10-30 15:30:00  267.50  279.10  266.00  273.15  33401683\n",
       "2018-10-31 15:30:00  275.00  282.75  268.60  281.40  28137370\n",
       "...                     ...     ...     ...     ...       ...\n",
       "2020-07-16 15:30:00  185.00  186.95  181.65  186.25  46549518\n",
       "2020-07-17 15:30:00  186.80  189.50  185.00  188.20  47035751\n",
       "2020-07-20 15:30:00  190.00  193.25  188.75  190.75  45680606\n",
       "2020-07-21 15:30:00  192.45  196.20  191.50  194.40  59286092\n",
       "2020-07-22 15:30:00  195.70  196.75  190.10  192.00  62276770\n",
       "\n",
       "[428 rows x 5 columns]"
      ]
     },
     "execution_count": 12,
     "metadata": {},
     "output_type": "execute_result"
    }
   ],
   "source": [
    "df"
   ]
  },
  {
   "cell_type": "code",
   "execution_count": 13,
   "metadata": {},
   "outputs": [
    {
     "data": {
      "text/plain": [
       "DatetimeIndex(['2018-10-25 15:30:00', '2018-10-26 15:30:00',\n",
       "               '2018-10-29 15:30:00', '2018-10-30 15:30:00',\n",
       "               '2018-10-31 15:30:00', '2018-01-11 15:30:00',\n",
       "               '2018-02-11 15:30:00', '2018-05-11 19:00:00',\n",
       "               '2018-06-11 15:30:00', '2018-09-11 15:30:00',\n",
       "               ...\n",
       "               '2020-09-07 15:30:00', '2020-10-07 15:30:00',\n",
       "               '2020-07-13 15:30:00', '2020-07-14 15:30:00',\n",
       "               '2020-07-15 15:30:00', '2020-07-16 15:30:00',\n",
       "               '2020-07-17 15:30:00', '2020-07-20 15:30:00',\n",
       "               '2020-07-21 15:30:00', '2020-07-22 15:30:00'],\n",
       "              dtype='datetime64[ns]', name='Date', length=428, freq=None)"
      ]
     },
     "execution_count": 13,
     "metadata": {},
     "output_type": "execute_result"
    }
   ],
   "source": [
    "df.index"
   ]
  },
  {
   "cell_type": "code",
   "execution_count": 24,
   "metadata": {},
   "outputs": [
    {
     "data": {
      "text/plain": [
       "Date\n",
       "2019-01-01 15:30:00    299.60\n",
       "2019-01-14 15:30:00    300.40\n",
       "2019-01-15 15:30:00    301.65\n",
       "2019-01-16 15:30:00    303.15\n",
       "2019-01-17 15:30:00    297.40\n",
       "2019-01-18 15:30:00    294.95\n",
       "2019-01-21 15:30:00    292.45\n",
       "2019-01-22 15:30:00    290.25\n",
       "2019-01-23 15:30:00    286.65\n",
       "2019-01-24 15:30:00    288.05\n",
       "2019-01-25 15:30:00    285.40\n",
       "2019-01-28 15:30:00    281.60\n",
       "2019-01-29 15:30:00    280.60\n",
       "2019-01-30 15:30:00    287.45\n",
       "2019-01-31 15:30:00    293.65\n",
       "2019-01-02 15:30:00    284.40\n",
       "2019-01-03 15:30:00    272.95\n",
       "2019-01-04 15:30:00    322.75\n",
       "2019-01-07 15:30:00    361.55\n",
       "2019-01-08 15:30:00    317.15\n",
       "2019-01-10 15:30:00    255.95\n",
       "2019-01-11 15:30:00    313.55\n",
       "Name: Close, dtype: float64"
      ]
     },
     "execution_count": 24,
     "metadata": {},
     "output_type": "execute_result"
    }
   ],
   "source": [
    "df['2019-01'].Close"
   ]
  },
  {
   "cell_type": "code",
   "execution_count": 27,
   "metadata": {},
   "outputs": [
    {
     "data": {
      "text/html": [
       "<div>\n",
       "<style scoped>\n",
       "    .dataframe tbody tr th:only-of-type {\n",
       "        vertical-align: middle;\n",
       "    }\n",
       "\n",
       "    .dataframe tbody tr th {\n",
       "        vertical-align: top;\n",
       "    }\n",
       "\n",
       "    .dataframe thead th {\n",
       "        text-align: right;\n",
       "    }\n",
       "</style>\n",
       "<table border=\"1\" class=\"dataframe\">\n",
       "  <thead>\n",
       "    <tr style=\"text-align: right;\">\n",
       "      <th></th>\n",
       "      <th>Open</th>\n",
       "      <th>High</th>\n",
       "      <th>Low</th>\n",
       "      <th>Close</th>\n",
       "      <th>Volume</th>\n",
       "    </tr>\n",
       "    <tr>\n",
       "      <th>Date</th>\n",
       "      <th></th>\n",
       "      <th></th>\n",
       "      <th></th>\n",
       "      <th></th>\n",
       "      <th></th>\n",
       "    </tr>\n",
       "  </thead>\n",
       "  <tbody>\n",
       "    <tr>\n",
       "      <th>2020-01-13 15:30:00</th>\n",
       "      <td>334.0</td>\n",
       "      <td>335.45</td>\n",
       "      <td>329.05</td>\n",
       "      <td>330.75</td>\n",
       "      <td>23615129</td>\n",
       "    </tr>\n",
       "    <tr>\n",
       "      <th>2020-01-14 15:30:00</th>\n",
       "      <td>329.8</td>\n",
       "      <td>331.70</td>\n",
       "      <td>326.50</td>\n",
       "      <td>328.00</td>\n",
       "      <td>26296117</td>\n",
       "    </tr>\n",
       "    <tr>\n",
       "      <th>2020-01-15 15:30:00</th>\n",
       "      <td>329.0</td>\n",
       "      <td>329.20</td>\n",
       "      <td>322.35</td>\n",
       "      <td>324.25</td>\n",
       "      <td>32625740</td>\n",
       "    </tr>\n",
       "    <tr>\n",
       "      <th>2020-01-16 15:30:00</th>\n",
       "      <td>324.0</td>\n",
       "      <td>326.90</td>\n",
       "      <td>322.35</td>\n",
       "      <td>323.30</td>\n",
       "      <td>26653623</td>\n",
       "    </tr>\n",
       "    <tr>\n",
       "      <th>2020-01-17 15:30:00</th>\n",
       "      <td>313.0</td>\n",
       "      <td>323.50</td>\n",
       "      <td>310.10</td>\n",
       "      <td>318.00</td>\n",
       "      <td>58396326</td>\n",
       "    </tr>\n",
       "    <tr>\n",
       "      <th>2020-01-20 15:30:00</th>\n",
       "      <td>321.0</td>\n",
       "      <td>321.45</td>\n",
       "      <td>313.40</td>\n",
       "      <td>314.00</td>\n",
       "      <td>30682902</td>\n",
       "    </tr>\n",
       "  </tbody>\n",
       "</table>\n",
       "</div>"
      ],
      "text/plain": [
       "                      Open    High     Low   Close    Volume\n",
       "Date                                                        \n",
       "2020-01-13 15:30:00  334.0  335.45  329.05  330.75  23615129\n",
       "2020-01-14 15:30:00  329.8  331.70  326.50  328.00  26296117\n",
       "2020-01-15 15:30:00  329.0  329.20  322.35  324.25  32625740\n",
       "2020-01-16 15:30:00  324.0  326.90  322.35  323.30  26653623\n",
       "2020-01-17 15:30:00  313.0  323.50  310.10  318.00  58396326\n",
       "2020-01-20 15:30:00  321.0  321.45  313.40  314.00  30682902"
      ]
     },
     "execution_count": 27,
     "metadata": {},
     "output_type": "execute_result"
    }
   ],
   "source": [
    "df['2020-01-10':'2020-01-20']"
   ]
  },
  {
   "cell_type": "code",
   "execution_count": 28,
   "metadata": {},
   "outputs": [
    {
     "data": {
      "text/plain": [
       "<pandas.core.resample.DatetimeIndexResampler object at 0x000001FA41EBE248>"
      ]
     },
     "execution_count": 28,
     "metadata": {},
     "output_type": "execute_result"
    }
   ],
   "source": [
    "df.Close.resample('M')"
   ]
  },
  {
   "cell_type": "code",
   "execution_count": 29,
   "metadata": {},
   "outputs": [
    {
     "data": {
      "text/plain": [
       "Date\n",
       "2018-01-31    285.900000\n",
       "2018-02-28    285.350000\n",
       "2018-03-31    286.800000\n",
       "2018-04-30    282.550000\n",
       "2018-05-31    288.125000\n",
       "2018-06-30    281.050000\n",
       "2018-07-31    275.400000\n",
       "2018-08-31           NaN\n",
       "2018-09-30    283.250000\n",
       "2018-10-31    265.716667\n",
       "2018-11-30    285.139286\n",
       "2018-12-31    291.453571\n",
       "2019-01-31    295.979545\n",
       "2019-02-28    285.747222\n",
       "2019-03-31    306.767500\n",
       "2019-04-30    311.180556\n",
       "2019-05-31    327.989130\n",
       "2019-06-30    330.930000\n",
       "2019-07-31    328.888095\n",
       "2019-08-31    290.473810\n",
       "2019-09-30    293.140000\n",
       "2019-10-31    287.492500\n",
       "2019-11-30    319.678261\n",
       "2019-12-31    325.442105\n",
       "2020-01-31    298.482500\n",
       "2020-02-29    300.793333\n",
       "2020-03-31    215.426316\n",
       "2020-04-30    198.250000\n",
       "2020-05-31    178.746875\n",
       "2020-06-30    202.741176\n",
       "2020-07-31    207.603846\n",
       "2020-08-31    209.630000\n",
       "2020-09-30    230.990000\n",
       "2020-10-31    258.512500\n",
       "2020-11-30    228.012500\n",
       "2020-12-31    219.712500\n",
       "Freq: M, Name: Close, dtype: float64"
      ]
     },
     "execution_count": 29,
     "metadata": {},
     "output_type": "execute_result"
    }
   ],
   "source": [
    "df.Close.resample('M').mean()"
   ]
  },
  {
   "cell_type": "code",
   "execution_count": 45,
   "metadata": {},
   "outputs": [
    {
     "data": {
      "text/plain": [
       "<matplotlib.axes._subplots.AxesSubplot at 0x1fa44ae89c8>"
      ]
     },
     "execution_count": 45,
     "metadata": {},
     "output_type": "execute_result"
    },
    {
     "data": {
      "image/png": "[encoded data removed]",
      "text/plain": [
       "<Figure size 432x288 with 1 Axes>"
      ]
     },
     "metadata": {
      "needs_background": "light"
     },
     "output_type": "display_data"
    }
   ],
   "source": [
    "%matplotlib inline\n",
    "df.Close.resample('M').mean().plot(kind = 'bar')\n"
   ]
  },
  {
   "cell_type": "code",
   "execution_count": null,
   "metadata": {},
   "outputs": [],
   "source": []
  },
  {
   "cell_type": "code",
   "execution_count": null,
   "metadata": {},
   "outputs": [],
   "source": []
  }
 ],
 "metadata": {
  "kernelspec": {
   "display_name": "Python 3",
   "language": "python",
   "name": "python3"
  },
  "language_info": {
   "codemirror_mode": {
    "name": "ipython",
    "version": 3
   },
   "file_extension": ".py",
   "mimetype": "text/x-python",
   "name": "python",
   "nbconvert_exporter": "python",
   "pygments_lexer": "ipython3",
   "version": "3.7.6"
  }
 },
 "nbformat": 4,
 "nbformat_minor": 4
}
