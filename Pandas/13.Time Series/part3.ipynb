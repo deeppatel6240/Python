{
 "cells": [
  {
   "cell_type": "code",
   "execution_count": 1,
   "metadata": {},
   "outputs": [],
   "source": [
    "import pandas as pd"
   ]
  },
  {
   "cell_type": "code",
   "execution_count": 2,
   "metadata": {},
   "outputs": [
    {
     "data": {
      "text/html": [
       "<div>\n",
       "<style scoped>\n",
       "    .dataframe tbody tr th:only-of-type {\n",
       "        vertical-align: middle;\n",
       "    }\n",
       "\n",
       "    .dataframe tbody tr th {\n",
       "        vertical-align: top;\n",
       "    }\n",
       "\n",
       "    .dataframe thead th {\n",
       "        text-align: right;\n",
       "    }\n",
       "</style>\n",
       "<table border=\"1\" class=\"dataframe\">\n",
       "  <thead>\n",
       "    <tr style=\"text-align: right;\">\n",
       "      <th></th>\n",
       "      <th>Open</th>\n",
       "      <th>High</th>\n",
       "      <th>Low</th>\n",
       "      <th>Close</th>\n",
       "      <th>Volume</th>\n",
       "    </tr>\n",
       "  </thead>\n",
       "  <tbody>\n",
       "    <tr>\n",
       "      <th>0</th>\n",
       "      <td>254.50</td>\n",
       "      <td>255.00</td>\n",
       "      <td>248.40</td>\n",
       "      <td>249.55</td>\n",
       "      <td>33066232</td>\n",
       "    </tr>\n",
       "    <tr>\n",
       "      <th>1</th>\n",
       "      <td>252.00</td>\n",
       "      <td>252.50</td>\n",
       "      <td>247.40</td>\n",
       "      <td>248.10</td>\n",
       "      <td>20543437</td>\n",
       "    </tr>\n",
       "    <tr>\n",
       "      <th>2</th>\n",
       "      <td>250.00</td>\n",
       "      <td>269.25</td>\n",
       "      <td>248.40</td>\n",
       "      <td>267.90</td>\n",
       "      <td>37768359</td>\n",
       "    </tr>\n",
       "    <tr>\n",
       "      <th>3</th>\n",
       "      <td>267.50</td>\n",
       "      <td>279.10</td>\n",
       "      <td>266.00</td>\n",
       "      <td>273.15</td>\n",
       "      <td>33401683</td>\n",
       "    </tr>\n",
       "    <tr>\n",
       "      <th>4</th>\n",
       "      <td>275.00</td>\n",
       "      <td>282.75</td>\n",
       "      <td>268.60</td>\n",
       "      <td>281.40</td>\n",
       "      <td>28137370</td>\n",
       "    </tr>\n",
       "    <tr>\n",
       "      <th>5</th>\n",
       "      <td>283.00</td>\n",
       "      <td>289.00</td>\n",
       "      <td>278.85</td>\n",
       "      <td>285.90</td>\n",
       "      <td>29144808</td>\n",
       "    </tr>\n",
       "    <tr>\n",
       "      <th>6</th>\n",
       "      <td>287.90</td>\n",
       "      <td>292.80</td>\n",
       "      <td>283.20</td>\n",
       "      <td>285.35</td>\n",
       "      <td>27760214</td>\n",
       "    </tr>\n",
       "    <tr>\n",
       "      <th>7</th>\n",
       "      <td>286.45</td>\n",
       "      <td>300.00</td>\n",
       "      <td>283.50</td>\n",
       "      <td>296.10</td>\n",
       "      <td>44619891</td>\n",
       "    </tr>\n",
       "    <tr>\n",
       "      <th>8</th>\n",
       "      <td>296.10</td>\n",
       "      <td>298.30</td>\n",
       "      <td>283.90</td>\n",
       "      <td>286.45</td>\n",
       "      <td>40688243</td>\n",
       "    </tr>\n",
       "    <tr>\n",
       "      <th>9</th>\n",
       "      <td>287.00</td>\n",
       "      <td>287.50</td>\n",
       "      <td>282.45</td>\n",
       "      <td>283.25</td>\n",
       "      <td>19201007</td>\n",
       "    </tr>\n",
       "    <tr>\n",
       "      <th>10</th>\n",
       "      <td>283.70</td>\n",
       "      <td>283.70</td>\n",
       "      <td>276.85</td>\n",
       "      <td>277.95</td>\n",
       "      <td>24044907</td>\n",
       "    </tr>\n",
       "    <tr>\n",
       "      <th>11</th>\n",
       "      <td>276.30</td>\n",
       "      <td>279.70</td>\n",
       "      <td>273.35</td>\n",
       "      <td>278.05</td>\n",
       "      <td>25633628</td>\n",
       "    </tr>\n",
       "    <tr>\n",
       "      <th>12</th>\n",
       "      <td>280.40</td>\n",
       "      <td>287.70</td>\n",
       "      <td>278.00</td>\n",
       "      <td>283.60</td>\n",
       "      <td>52674807</td>\n",
       "    </tr>\n",
       "    <tr>\n",
       "      <th>13</th>\n",
       "      <td>283.85</td>\n",
       "      <td>287.05</td>\n",
       "      <td>281.15</td>\n",
       "      <td>285.40</td>\n",
       "      <td>18445463</td>\n",
       "    </tr>\n",
       "    <tr>\n",
       "      <th>14</th>\n",
       "      <td>285.90</td>\n",
       "      <td>291.80</td>\n",
       "      <td>282.60</td>\n",
       "      <td>290.90</td>\n",
       "      <td>24805910</td>\n",
       "    </tr>\n",
       "    <tr>\n",
       "      <th>15</th>\n",
       "      <td>293.50</td>\n",
       "      <td>293.50</td>\n",
       "      <td>286.05</td>\n",
       "      <td>288.15</td>\n",
       "      <td>13799970</td>\n",
       "    </tr>\n",
       "    <tr>\n",
       "      <th>16</th>\n",
       "      <td>285.90</td>\n",
       "      <td>288.55</td>\n",
       "      <td>282.50</td>\n",
       "      <td>283.45</td>\n",
       "      <td>12900924</td>\n",
       "    </tr>\n",
       "    <tr>\n",
       "      <th>17</th>\n",
       "      <td>283.45</td>\n",
       "      <td>289.55</td>\n",
       "      <td>283.05</td>\n",
       "      <td>287.05</td>\n",
       "      <td>16167419</td>\n",
       "    </tr>\n",
       "    <tr>\n",
       "      <th>18</th>\n",
       "      <td>285.95</td>\n",
       "      <td>287.05</td>\n",
       "      <td>281.60</td>\n",
       "      <td>282.70</td>\n",
       "      <td>12066797</td>\n",
       "    </tr>\n",
       "    <tr>\n",
       "      <th>19</th>\n",
       "      <td>284.10</td>\n",
       "      <td>287.25</td>\n",
       "      <td>279.60</td>\n",
       "      <td>286.40</td>\n",
       "      <td>16846820</td>\n",
       "    </tr>\n",
       "  </tbody>\n",
       "</table>\n",
       "</div>"
      ],
      "text/plain": [
       "      Open    High     Low   Close    Volume\n",
       "0   254.50  255.00  248.40  249.55  33066232\n",
       "1   252.00  252.50  247.40  248.10  20543437\n",
       "2   250.00  269.25  248.40  267.90  37768359\n",
       "3   267.50  279.10  266.00  273.15  33401683\n",
       "4   275.00  282.75  268.60  281.40  28137370\n",
       "5   283.00  289.00  278.85  285.90  29144808\n",
       "6   287.90  292.80  283.20  285.35  27760214\n",
       "7   286.45  300.00  283.50  296.10  44619891\n",
       "8   296.10  298.30  283.90  286.45  40688243\n",
       "9   287.00  287.50  282.45  283.25  19201007\n",
       "10  283.70  283.70  276.85  277.95  24044907\n",
       "11  276.30  279.70  273.35  278.05  25633628\n",
       "12  280.40  287.70  278.00  283.60  52674807\n",
       "13  283.85  287.05  281.15  285.40  18445463\n",
       "14  285.90  291.80  282.60  290.90  24805910\n",
       "15  293.50  293.50  286.05  288.15  13799970\n",
       "16  285.90  288.55  282.50  283.45  12900924\n",
       "17  283.45  289.55  283.05  287.05  16167419\n",
       "18  285.95  287.05  281.60  282.70  12066797\n",
       "19  284.10  287.25  279.60  286.40  16846820"
      ]
     },
     "execution_count": 2,
     "metadata": {},
     "output_type": "execute_result"
    }
   ],
   "source": [
    "df = pd.read_excel('SBIN.xlsx')\n",
    "df"
   ]
  },
  {
   "cell_type": "code",
   "execution_count": 3,
   "metadata": {},
   "outputs": [],
   "source": [
    "df1 = pd.date_range(start = '10/25/2018', end = '11/21/2018', freq = 'B')"
   ]
  },
  {
   "cell_type": "code",
   "execution_count": 4,
   "metadata": {},
   "outputs": [
    {
     "data": {
      "text/plain": [
       "DatetimeIndex(['2018-10-25', '2018-10-26', '2018-10-29', '2018-10-30',\n",
       "               '2018-10-31', '2018-11-01', '2018-11-02', '2018-11-05',\n",
       "               '2018-11-06', '2018-11-07', '2018-11-08', '2018-11-09',\n",
       "               '2018-11-12', '2018-11-13', '2018-11-14', '2018-11-15',\n",
       "               '2018-11-16', '2018-11-19', '2018-11-20', '2018-11-21'],\n",
       "              dtype='datetime64[ns]', freq='B')"
      ]
     },
     "execution_count": 4,
     "metadata": {},
     "output_type": "execute_result"
    }
   ],
   "source": [
    "df1"
   ]
  },
  {
   "cell_type": "code",
   "execution_count": 5,
   "metadata": {},
   "outputs": [],
   "source": [
    "from pandas.tseries.holiday import USFederalHolidayCalendar\n",
    "from pandas.tseries.offsets import CustomBusinessDay "
   ]
  },
  {
   "cell_type": "code",
   "execution_count": 6,
   "metadata": {},
   "outputs": [
    {
     "data": {
      "text/plain": [
       "<CustomBusinessDay>"
      ]
     },
     "execution_count": 6,
     "metadata": {},
     "output_type": "execute_result"
    }
   ],
   "source": [
    "us = CustomBusinessDay(calendar=USFederalHolidayCalendar())\n",
    "us"
   ]
  },
  {
   "cell_type": "code",
   "execution_count": 7,
   "metadata": {},
   "outputs": [],
   "source": [
    "df2 = pd.date_range(start = '10/25/2018', end = '11/21/2018', freq = us)"
   ]
  },
  {
   "cell_type": "code",
   "execution_count": 8,
   "metadata": {},
   "outputs": [
    {
     "data": {
      "text/plain": [
       "DatetimeIndex(['2018-10-25', '2018-10-26', '2018-10-29', '2018-10-30',\n",
       "               '2018-10-31', '2018-11-01', '2018-11-02', '2018-11-05',\n",
       "               '2018-11-06', '2018-11-07', '2018-11-08', '2018-11-09',\n",
       "               '2018-11-13', '2018-11-14', '2018-11-15', '2018-11-16',\n",
       "               '2018-11-19', '2018-11-20', '2018-11-21'],\n",
       "              dtype='datetime64[ns]', freq='C')"
      ]
     },
     "execution_count": 8,
     "metadata": {},
     "output_type": "execute_result"
    }
   ],
   "source": [
    "df2"
   ]
  },
  {
   "cell_type": "code",
   "execution_count": 31,
   "metadata": {},
   "outputs": [],
   "source": [
    "from pandas.tseries.holiday import AbstractHolidayCalendar, nearest_workday, Holiday\n",
    "class USFederalHolidayCalendar(AbstractHolidayCalendar):\n",
    "    \"\"\"\n",
    "    US Federal Government Holiday Calendar based on rules specified by:\n",
    "    https://www.opm.gov/policy-data-oversight/\n",
    "       snow-dismissal-procedures/federal-holidays/\n",
    "    \"\"\"\n",
    "\n",
    "    rules = [\n",
    "        Holiday(\"New Years Day\", month=11, day=16, observance=nearest_workday)\n",
    "    ]"
   ]
  },
  {
   "cell_type": "code",
   "execution_count": 32,
   "metadata": {},
   "outputs": [
    {
     "data": {
      "text/plain": [
       "<CustomBusinessDay>"
      ]
     },
     "execution_count": 32,
     "metadata": {},
     "output_type": "execute_result"
    }
   ],
   "source": [
    "c1 = CustomBusinessDay(calendar = USFederalHolidayCalendar())\n",
    "c1"
   ]
  },
  {
   "cell_type": "code",
   "execution_count": 33,
   "metadata": {},
   "outputs": [],
   "source": [
    "df3 = pd.date_range(start = '10/25/2019', end = '11/21/2019', freq = c1)"
   ]
  },
  {
   "cell_type": "code",
   "execution_count": 34,
   "metadata": {},
   "outputs": [
    {
     "data": {
      "text/plain": [
       "DatetimeIndex(['2019-10-25', '2019-10-28', '2019-10-29', '2019-10-30',\n",
       "               '2019-10-31', '2019-11-01', '2019-11-04', '2019-11-05',\n",
       "               '2019-11-06', '2019-11-07', '2019-11-08', '2019-11-11',\n",
       "               '2019-11-12', '2019-11-13', '2019-11-14', '2019-11-18',\n",
       "               '2019-11-19', '2019-11-20', '2019-11-21'],\n",
       "              dtype='datetime64[ns]', freq='C')"
      ]
     },
     "execution_count": 34,
     "metadata": {},
     "output_type": "execute_result"
    }
   ],
   "source": [
    "df3"
   ]
  },
  {
   "cell_type": "code",
   "execution_count": null,
   "metadata": {},
   "outputs": [],
   "source": []
  }
 ],
 "metadata": {
  "kernelspec": {
   "display_name": "Python 3",
   "language": "python",
   "name": "python3"
  },
  "language_info": {
   "codemirror_mode": {
    "name": "ipython",
    "version": 3
   },
   "file_extension": ".py",
   "mimetype": "text/x-python",
   "name": "python",
   "nbconvert_exporter": "python",
   "pygments_lexer": "ipython3",
   "version": "3.7.6"
  }
 },
 "nbformat": 4,
 "nbformat_minor": 4
}
